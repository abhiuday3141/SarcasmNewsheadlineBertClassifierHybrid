{
 "cells": [
  {
   "cell_type": "code",
   "execution_count": 87,
   "metadata": {
    "id": "H74qu2bF7IAo"
   },
   "outputs": [],
   "source": [
    "#Importing the main libraries\n",
    "import numpy as np\n",
    "import pandas as pd\n",
    "import matplotlib.pyplot as plt\n",
    "import tensorflow as tf\n",
    "import keras"
   ]
  },
  {
   "cell_type": "code",
   "execution_count": 88,
   "metadata": {
    "colab": {
     "base_uri": "https://localhost:8080/"
    },
    "id": "_XEwbPGs7KT2",
    "outputId": "1ca7180f-4e40-41f3-939d-7c140d925473"
   },
   "outputs": [
    {
     "name": "stdout",
     "output_type": "stream",
     "text": [
      "Drive already mounted at /content/drive; to attempt to forcibly remount, call drive.mount(\"/content/drive\", force_remount=True).\n"
     ]
    }
   ],
   "source": [
    "from google.colab import drive\n",
    "drive.mount('/content/drive')"
   ]
  },
  {
   "cell_type": "code",
   "execution_count": 89,
   "metadata": {
    "colab": {
     "base_uri": "https://localhost:8080/"
    },
    "id": "FHEd3PbR7IAq",
    "outputId": "88b79091-a741-4bd8-bb54-25c8c127b76e"
   },
   "outputs": [
    {
     "name": "stdout",
     "output_type": "stream",
     "text": [
      "2.11.0\n",
      "2.11.0\n"
     ]
    }
   ],
   "source": [
    "#Taking note of the current versions used\n",
    "\n",
    "print(tf.__version__)\n",
    "print(keras.__version__)"
   ]
  },
  {
   "cell_type": "code",
   "execution_count": 91,
   "metadata": {
    "id": "c5_oquea7IAr"
   },
   "outputs": [],
   "source": [
    "import json\n",
    "import pandas as pd\n",
    "\n",
    "def load_json(jfile):\n",
    "    data = []\n",
    "    with open(jfile) as f:\n",
    "        for line in f.readlines():\n",
    "            j = json.loads(line)\n",
    "            url, headline, sarcastic = j['article_link'], j['headline'], j['is_sarcastic']\n",
    "            data.append([url, headline, sarcastic])\n",
    "    return pd.DataFrame(data, columns=['article_link', 'headline', 'is_sarcastic'])"
   ]
  },
  {
   "cell_type": "code",
   "execution_count": 92,
   "metadata": {
    "id": "uzTESlnNy76n"
   },
   "outputs": [],
   "source": [
    "json_1 = '/content/drive/MyDrive/Sarcasm_Headlines_Dataset.json'\n",
    "json_2 = '/content/drive/MyDrive/Sarcasm_Headlines_Dataset_v2.json'"
   ]
  },
  {
   "cell_type": "code",
   "execution_count": 93,
   "metadata": {
    "colab": {
     "base_uri": "https://localhost:8080/",
     "height": 206
    },
    "id": "38XTCSWu7sIA",
    "outputId": "2dcc6181-9628-4ad4-81f5-bcb58d8596f4"
   },
   "outputs": [
    {
     "data": {
      "text/html": [
       "\n",
       "  <div id=\"df-160739b8-7aa0-4769-ae75-3862b66a840d\">\n",
       "    <div class=\"colab-df-container\">\n",
       "      <div>\n",
       "<style scoped>\n",
       "    .dataframe tbody tr th:only-of-type {\n",
       "        vertical-align: middle;\n",
       "    }\n",
       "\n",
       "    .dataframe tbody tr th {\n",
       "        vertical-align: top;\n",
       "    }\n",
       "\n",
       "    .dataframe thead th {\n",
       "        text-align: right;\n",
       "    }\n",
       "</style>\n",
       "<table border=\"1\" class=\"dataframe\">\n",
       "  <thead>\n",
       "    <tr style=\"text-align: right;\">\n",
       "      <th></th>\n",
       "      <th>article_link</th>\n",
       "      <th>headline</th>\n",
       "      <th>is_sarcastic</th>\n",
       "    </tr>\n",
       "  </thead>\n",
       "  <tbody>\n",
       "    <tr>\n",
       "      <th>0</th>\n",
       "      <td>https://www.theonion.com/thirtysomething-scien...</td>\n",
       "      <td>thirtysomething scientists unveil doomsday clo...</td>\n",
       "      <td>1</td>\n",
       "    </tr>\n",
       "    <tr>\n",
       "      <th>1</th>\n",
       "      <td>https://www.huffingtonpost.com/entry/donna-edw...</td>\n",
       "      <td>dem rep. totally nails why congress is falling...</td>\n",
       "      <td>0</td>\n",
       "    </tr>\n",
       "    <tr>\n",
       "      <th>2</th>\n",
       "      <td>https://www.huffingtonpost.com/entry/eat-your-...</td>\n",
       "      <td>eat your veggies: 9 deliciously different recipes</td>\n",
       "      <td>0</td>\n",
       "    </tr>\n",
       "    <tr>\n",
       "      <th>3</th>\n",
       "      <td>https://local.theonion.com/inclement-weather-p...</td>\n",
       "      <td>inclement weather prevents liar from getting t...</td>\n",
       "      <td>1</td>\n",
       "    </tr>\n",
       "    <tr>\n",
       "      <th>4</th>\n",
       "      <td>https://www.theonion.com/mother-comes-pretty-c...</td>\n",
       "      <td>mother comes pretty close to using word 'strea...</td>\n",
       "      <td>1</td>\n",
       "    </tr>\n",
       "  </tbody>\n",
       "</table>\n",
       "</div>\n",
       "      <button class=\"colab-df-convert\" onclick=\"convertToInteractive('df-160739b8-7aa0-4769-ae75-3862b66a840d')\"\n",
       "              title=\"Convert this dataframe to an interactive table.\"\n",
       "              style=\"display:none;\">\n",
       "        \n",
       "  <svg xmlns=\"http://www.w3.org/2000/svg\" height=\"24px\"viewBox=\"0 0 24 24\"\n",
       "       width=\"24px\">\n",
       "    <path d=\"M0 0h24v24H0V0z\" fill=\"none\"/>\n",
       "    <path d=\"M18.56 5.44l.94 2.06.94-2.06 2.06-.94-2.06-.94-.94-2.06-.94 2.06-2.06.94zm-11 1L8.5 8.5l.94-2.06 2.06-.94-2.06-.94L8.5 2.5l-.94 2.06-2.06.94zm10 10l.94 2.06.94-2.06 2.06-.94-2.06-.94-.94-2.06-.94 2.06-2.06.94z\"/><path d=\"M17.41 7.96l-1.37-1.37c-.4-.4-.92-.59-1.43-.59-.52 0-1.04.2-1.43.59L10.3 9.45l-7.72 7.72c-.78.78-.78 2.05 0 2.83L4 21.41c.39.39.9.59 1.41.59.51 0 1.02-.2 1.41-.59l7.78-7.78 2.81-2.81c.8-.78.8-2.07 0-2.86zM5.41 20L4 18.59l7.72-7.72 1.47 1.35L5.41 20z\"/>\n",
       "  </svg>\n",
       "      </button>\n",
       "      \n",
       "  <style>\n",
       "    .colab-df-container {\n",
       "      display:flex;\n",
       "      flex-wrap:wrap;\n",
       "      gap: 12px;\n",
       "    }\n",
       "\n",
       "    .colab-df-convert {\n",
       "      background-color: #E8F0FE;\n",
       "      border: none;\n",
       "      border-radius: 50%;\n",
       "      cursor: pointer;\n",
       "      display: none;\n",
       "      fill: #1967D2;\n",
       "      height: 32px;\n",
       "      padding: 0 0 0 0;\n",
       "      width: 32px;\n",
       "    }\n",
       "\n",
       "    .colab-df-convert:hover {\n",
       "      background-color: #E2EBFA;\n",
       "      box-shadow: 0px 1px 2px rgba(60, 64, 67, 0.3), 0px 1px 3px 1px rgba(60, 64, 67, 0.15);\n",
       "      fill: #174EA6;\n",
       "    }\n",
       "\n",
       "    [theme=dark] .colab-df-convert {\n",
       "      background-color: #3B4455;\n",
       "      fill: #D2E3FC;\n",
       "    }\n",
       "\n",
       "    [theme=dark] .colab-df-convert:hover {\n",
       "      background-color: #434B5C;\n",
       "      box-shadow: 0px 1px 3px 1px rgba(0, 0, 0, 0.15);\n",
       "      filter: drop-shadow(0px 1px 2px rgba(0, 0, 0, 0.3));\n",
       "      fill: #FFFFFF;\n",
       "    }\n",
       "  </style>\n",
       "\n",
       "      <script>\n",
       "        const buttonEl =\n",
       "          document.querySelector('#df-160739b8-7aa0-4769-ae75-3862b66a840d button.colab-df-convert');\n",
       "        buttonEl.style.display =\n",
       "          google.colab.kernel.accessAllowed ? 'block' : 'none';\n",
       "\n",
       "        async function convertToInteractive(key) {\n",
       "          const element = document.querySelector('#df-160739b8-7aa0-4769-ae75-3862b66a840d');\n",
       "          const dataTable =\n",
       "            await google.colab.kernel.invokeFunction('convertToInteractive',\n",
       "                                                     [key], {});\n",
       "          if (!dataTable) return;\n",
       "\n",
       "          const docLinkHtml = 'Like what you see? Visit the ' +\n",
       "            '<a target=\"_blank\" href=https://colab.research.google.com/notebooks/data_table.ipynb>data table notebook</a>'\n",
       "            + ' to learn more about interactive tables.';\n",
       "          element.innerHTML = '';\n",
       "          dataTable['output_type'] = 'display_data';\n",
       "          await google.colab.output.renderOutput(dataTable, element);\n",
       "          const docLink = document.createElement('div');\n",
       "          docLink.innerHTML = docLinkHtml;\n",
       "          element.appendChild(docLink);\n",
       "        }\n",
       "      </script>\n",
       "    </div>\n",
       "  </div>\n",
       "  "
      ],
      "text/plain": [
       "                                        article_link  \\\n",
       "0  https://www.theonion.com/thirtysomething-scien...   \n",
       "1  https://www.huffingtonpost.com/entry/donna-edw...   \n",
       "2  https://www.huffingtonpost.com/entry/eat-your-...   \n",
       "3  https://local.theonion.com/inclement-weather-p...   \n",
       "4  https://www.theonion.com/mother-comes-pretty-c...   \n",
       "\n",
       "                                            headline  is_sarcastic  \n",
       "0  thirtysomething scientists unveil doomsday clo...             1  \n",
       "1  dem rep. totally nails why congress is falling...             0  \n",
       "2  eat your veggies: 9 deliciously different recipes             0  \n",
       "3  inclement weather prevents liar from getting t...             1  \n",
       "4  mother comes pretty close to using word 'strea...             1  "
      ]
     },
     "execution_count": 93,
     "metadata": {},
     "output_type": "execute_result"
    }
   ],
   "source": [
    "#loading the dataset, from the json file stored in the given directory below, and visualising it\n",
    "import os\n",
    "\n",
    "data=load_json(json_2) # Working with version 2\n",
    "data.head()"
   ]
  },
  {
   "cell_type": "code",
   "execution_count": 94,
   "metadata": {
    "colab": {
     "base_uri": "https://localhost:8080/",
     "height": 206
    },
    "id": "tTLC-q8P7IAr",
    "outputId": "013722fc-c49f-4fdc-92af-d571acb78e8a"
   },
   "outputs": [
    {
     "data": {
      "text/html": [
       "\n",
       "  <div id=\"df-868d5447-0b2e-4f83-99e2-0d9f0da638a9\">\n",
       "    <div class=\"colab-df-container\">\n",
       "      <div>\n",
       "<style scoped>\n",
       "    .dataframe tbody tr th:only-of-type {\n",
       "        vertical-align: middle;\n",
       "    }\n",
       "\n",
       "    .dataframe tbody tr th {\n",
       "        vertical-align: top;\n",
       "    }\n",
       "\n",
       "    .dataframe thead th {\n",
       "        text-align: right;\n",
       "    }\n",
       "</style>\n",
       "<table border=\"1\" class=\"dataframe\">\n",
       "  <thead>\n",
       "    <tr style=\"text-align: right;\">\n",
       "      <th></th>\n",
       "      <th>headline</th>\n",
       "      <th>is_sarcastic</th>\n",
       "      <th>organization</th>\n",
       "    </tr>\n",
       "  </thead>\n",
       "  <tbody>\n",
       "    <tr>\n",
       "      <th>0</th>\n",
       "      <td>thirtysomething scientists unveil doomsday clo...</td>\n",
       "      <td>1</td>\n",
       "      <td>theonion</td>\n",
       "    </tr>\n",
       "    <tr>\n",
       "      <th>1</th>\n",
       "      <td>dem rep. totally nails why congress is falling...</td>\n",
       "      <td>0</td>\n",
       "      <td>huffingtonpost</td>\n",
       "    </tr>\n",
       "    <tr>\n",
       "      <th>2</th>\n",
       "      <td>eat your veggies: 9 deliciously different recipes</td>\n",
       "      <td>0</td>\n",
       "      <td>huffingtonpost</td>\n",
       "    </tr>\n",
       "    <tr>\n",
       "      <th>3</th>\n",
       "      <td>inclement weather prevents liar from getting t...</td>\n",
       "      <td>1</td>\n",
       "      <td>theonion</td>\n",
       "    </tr>\n",
       "    <tr>\n",
       "      <th>4</th>\n",
       "      <td>mother comes pretty close to using word 'strea...</td>\n",
       "      <td>1</td>\n",
       "      <td>theonion</td>\n",
       "    </tr>\n",
       "  </tbody>\n",
       "</table>\n",
       "</div>\n",
       "      <button class=\"colab-df-convert\" onclick=\"convertToInteractive('df-868d5447-0b2e-4f83-99e2-0d9f0da638a9')\"\n",
       "              title=\"Convert this dataframe to an interactive table.\"\n",
       "              style=\"display:none;\">\n",
       "        \n",
       "  <svg xmlns=\"http://www.w3.org/2000/svg\" height=\"24px\"viewBox=\"0 0 24 24\"\n",
       "       width=\"24px\">\n",
       "    <path d=\"M0 0h24v24H0V0z\" fill=\"none\"/>\n",
       "    <path d=\"M18.56 5.44l.94 2.06.94-2.06 2.06-.94-2.06-.94-.94-2.06-.94 2.06-2.06.94zm-11 1L8.5 8.5l.94-2.06 2.06-.94-2.06-.94L8.5 2.5l-.94 2.06-2.06.94zm10 10l.94 2.06.94-2.06 2.06-.94-2.06-.94-.94-2.06-.94 2.06-2.06.94z\"/><path d=\"M17.41 7.96l-1.37-1.37c-.4-.4-.92-.59-1.43-.59-.52 0-1.04.2-1.43.59L10.3 9.45l-7.72 7.72c-.78.78-.78 2.05 0 2.83L4 21.41c.39.39.9.59 1.41.59.51 0 1.02-.2 1.41-.59l7.78-7.78 2.81-2.81c.8-.78.8-2.07 0-2.86zM5.41 20L4 18.59l7.72-7.72 1.47 1.35L5.41 20z\"/>\n",
       "  </svg>\n",
       "      </button>\n",
       "      \n",
       "  <style>\n",
       "    .colab-df-container {\n",
       "      display:flex;\n",
       "      flex-wrap:wrap;\n",
       "      gap: 12px;\n",
       "    }\n",
       "\n",
       "    .colab-df-convert {\n",
       "      background-color: #E8F0FE;\n",
       "      border: none;\n",
       "      border-radius: 50%;\n",
       "      cursor: pointer;\n",
       "      display: none;\n",
       "      fill: #1967D2;\n",
       "      height: 32px;\n",
       "      padding: 0 0 0 0;\n",
       "      width: 32px;\n",
       "    }\n",
       "\n",
       "    .colab-df-convert:hover {\n",
       "      background-color: #E2EBFA;\n",
       "      box-shadow: 0px 1px 2px rgba(60, 64, 67, 0.3), 0px 1px 3px 1px rgba(60, 64, 67, 0.15);\n",
       "      fill: #174EA6;\n",
       "    }\n",
       "\n",
       "    [theme=dark] .colab-df-convert {\n",
       "      background-color: #3B4455;\n",
       "      fill: #D2E3FC;\n",
       "    }\n",
       "\n",
       "    [theme=dark] .colab-df-convert:hover {\n",
       "      background-color: #434B5C;\n",
       "      box-shadow: 0px 1px 3px 1px rgba(0, 0, 0, 0.15);\n",
       "      filter: drop-shadow(0px 1px 2px rgba(0, 0, 0, 0.3));\n",
       "      fill: #FFFFFF;\n",
       "    }\n",
       "  </style>\n",
       "\n",
       "      <script>\n",
       "        const buttonEl =\n",
       "          document.querySelector('#df-868d5447-0b2e-4f83-99e2-0d9f0da638a9 button.colab-df-convert');\n",
       "        buttonEl.style.display =\n",
       "          google.colab.kernel.accessAllowed ? 'block' : 'none';\n",
       "\n",
       "        async function convertToInteractive(key) {\n",
       "          const element = document.querySelector('#df-868d5447-0b2e-4f83-99e2-0d9f0da638a9');\n",
       "          const dataTable =\n",
       "            await google.colab.kernel.invokeFunction('convertToInteractive',\n",
       "                                                     [key], {});\n",
       "          if (!dataTable) return;\n",
       "\n",
       "          const docLinkHtml = 'Like what you see? Visit the ' +\n",
       "            '<a target=\"_blank\" href=https://colab.research.google.com/notebooks/data_table.ipynb>data table notebook</a>'\n",
       "            + ' to learn more about interactive tables.';\n",
       "          element.innerHTML = '';\n",
       "          dataTable['output_type'] = 'display_data';\n",
       "          await google.colab.output.renderOutput(dataTable, element);\n",
       "          const docLink = document.createElement('div');\n",
       "          docLink.innerHTML = docLinkHtml;\n",
       "          element.appendChild(docLink);\n",
       "        }\n",
       "      </script>\n",
       "    </div>\n",
       "  </div>\n",
       "  "
      ],
      "text/plain": [
       "                                            headline  is_sarcastic  \\\n",
       "0  thirtysomething scientists unveil doomsday clo...             1   \n",
       "1  dem rep. totally nails why congress is falling...             0   \n",
       "2  eat your veggies: 9 deliciously different recipes             0   \n",
       "3  inclement weather prevents liar from getting t...             1   \n",
       "4  mother comes pretty close to using word 'strea...             1   \n",
       "\n",
       "     organization  \n",
       "0        theonion  \n",
       "1  huffingtonpost  \n",
       "2  huffingtonpost  \n",
       "3        theonion  \n",
       "4        theonion  "
      ]
     },
     "execution_count": 94,
     "metadata": {},
     "output_type": "execute_result"
    }
   ],
   "source": [
    "#Removing the link, and putting the organisation in its place\n",
    "import re\n",
    "data[\"organization\"]=data[\"article_link\"].apply(lambda x: re.findall(r\"\\w+\",x)[2])\n",
    "data=data.drop([\"article_link\"],axis=1)\n",
    "data.head()"
   ]
  },
  {
   "cell_type": "markdown",
   "metadata": {
    "id": "QtA5Rz777IAr"
   },
   "source": [
    "Now, this dataset needs preprocessing before feeding the suitable data to an LSTM. This includes : <br>\n",
    "1. Getting the oraganisation of the artice, and save only that.\n",
    "2. Remove all special characters from the sentences, to be left with plain text (wil be done automatically using tokenizer)."
   ]
  },
  {
   "cell_type": "code",
   "execution_count": 95,
   "metadata": {
    "colab": {
     "base_uri": "https://localhost:8080/"
    },
    "id": "Sm4Szaih7IAs",
    "outputId": "c6ba8fae-bd5b-48b0-c2a0-743a9a00ba42"
   },
   "outputs": [
    {
     "name": "stdout",
     "output_type": "stream",
     "text": [
      "<class 'pandas.core.frame.DataFrame'>\n",
      "RangeIndex: 28619 entries, 0 to 28618\n",
      "Data columns (total 3 columns):\n",
      " #   Column        Non-Null Count  Dtype \n",
      "---  ------        --------------  ----- \n",
      " 0   headline      28619 non-null  object\n",
      " 1   is_sarcastic  28619 non-null  int64 \n",
      " 2   organization  28619 non-null  object\n",
      "dtypes: int64(1), object(2)\n",
      "memory usage: 670.9+ KB\n"
     ]
    }
   ],
   "source": [
    "data.info()"
   ]
  },
  {
   "cell_type": "code",
   "execution_count": 96,
   "metadata": {
    "colab": {
     "base_uri": "https://localhost:8080/",
     "height": 300
    },
    "id": "ykqBCqiq7IAt",
    "outputId": "acdc26b1-5972-44c3-b2c5-48365ef05a35"
   },
   "outputs": [
    {
     "data": {
      "text/html": [
       "\n",
       "  <div id=\"df-eae3049f-59ef-41ed-ab80-d8ed51d8ef9d\">\n",
       "    <div class=\"colab-df-container\">\n",
       "      <div>\n",
       "<style scoped>\n",
       "    .dataframe tbody tr th:only-of-type {\n",
       "        vertical-align: middle;\n",
       "    }\n",
       "\n",
       "    .dataframe tbody tr th {\n",
       "        vertical-align: top;\n",
       "    }\n",
       "\n",
       "    .dataframe thead th {\n",
       "        text-align: right;\n",
       "    }\n",
       "</style>\n",
       "<table border=\"1\" class=\"dataframe\">\n",
       "  <thead>\n",
       "    <tr style=\"text-align: right;\">\n",
       "      <th></th>\n",
       "      <th>is_sarcastic</th>\n",
       "    </tr>\n",
       "  </thead>\n",
       "  <tbody>\n",
       "    <tr>\n",
       "      <th>count</th>\n",
       "      <td>28619.000000</td>\n",
       "    </tr>\n",
       "    <tr>\n",
       "      <th>mean</th>\n",
       "      <td>0.476397</td>\n",
       "    </tr>\n",
       "    <tr>\n",
       "      <th>std</th>\n",
       "      <td>0.499451</td>\n",
       "    </tr>\n",
       "    <tr>\n",
       "      <th>min</th>\n",
       "      <td>0.000000</td>\n",
       "    </tr>\n",
       "    <tr>\n",
       "      <th>25%</th>\n",
       "      <td>0.000000</td>\n",
       "    </tr>\n",
       "    <tr>\n",
       "      <th>50%</th>\n",
       "      <td>0.000000</td>\n",
       "    </tr>\n",
       "    <tr>\n",
       "      <th>75%</th>\n",
       "      <td>1.000000</td>\n",
       "    </tr>\n",
       "    <tr>\n",
       "      <th>max</th>\n",
       "      <td>1.000000</td>\n",
       "    </tr>\n",
       "  </tbody>\n",
       "</table>\n",
       "</div>\n",
       "      <button class=\"colab-df-convert\" onclick=\"convertToInteractive('df-eae3049f-59ef-41ed-ab80-d8ed51d8ef9d')\"\n",
       "              title=\"Convert this dataframe to an interactive table.\"\n",
       "              style=\"display:none;\">\n",
       "        \n",
       "  <svg xmlns=\"http://www.w3.org/2000/svg\" height=\"24px\"viewBox=\"0 0 24 24\"\n",
       "       width=\"24px\">\n",
       "    <path d=\"M0 0h24v24H0V0z\" fill=\"none\"/>\n",
       "    <path d=\"M18.56 5.44l.94 2.06.94-2.06 2.06-.94-2.06-.94-.94-2.06-.94 2.06-2.06.94zm-11 1L8.5 8.5l.94-2.06 2.06-.94-2.06-.94L8.5 2.5l-.94 2.06-2.06.94zm10 10l.94 2.06.94-2.06 2.06-.94-2.06-.94-.94-2.06-.94 2.06-2.06.94z\"/><path d=\"M17.41 7.96l-1.37-1.37c-.4-.4-.92-.59-1.43-.59-.52 0-1.04.2-1.43.59L10.3 9.45l-7.72 7.72c-.78.78-.78 2.05 0 2.83L4 21.41c.39.39.9.59 1.41.59.51 0 1.02-.2 1.41-.59l7.78-7.78 2.81-2.81c.8-.78.8-2.07 0-2.86zM5.41 20L4 18.59l7.72-7.72 1.47 1.35L5.41 20z\"/>\n",
       "  </svg>\n",
       "      </button>\n",
       "      \n",
       "  <style>\n",
       "    .colab-df-container {\n",
       "      display:flex;\n",
       "      flex-wrap:wrap;\n",
       "      gap: 12px;\n",
       "    }\n",
       "\n",
       "    .colab-df-convert {\n",
       "      background-color: #E8F0FE;\n",
       "      border: none;\n",
       "      border-radius: 50%;\n",
       "      cursor: pointer;\n",
       "      display: none;\n",
       "      fill: #1967D2;\n",
       "      height: 32px;\n",
       "      padding: 0 0 0 0;\n",
       "      width: 32px;\n",
       "    }\n",
       "\n",
       "    .colab-df-convert:hover {\n",
       "      background-color: #E2EBFA;\n",
       "      box-shadow: 0px 1px 2px rgba(60, 64, 67, 0.3), 0px 1px 3px 1px rgba(60, 64, 67, 0.15);\n",
       "      fill: #174EA6;\n",
       "    }\n",
       "\n",
       "    [theme=dark] .colab-df-convert {\n",
       "      background-color: #3B4455;\n",
       "      fill: #D2E3FC;\n",
       "    }\n",
       "\n",
       "    [theme=dark] .colab-df-convert:hover {\n",
       "      background-color: #434B5C;\n",
       "      box-shadow: 0px 1px 3px 1px rgba(0, 0, 0, 0.15);\n",
       "      filter: drop-shadow(0px 1px 2px rgba(0, 0, 0, 0.3));\n",
       "      fill: #FFFFFF;\n",
       "    }\n",
       "  </style>\n",
       "\n",
       "      <script>\n",
       "        const buttonEl =\n",
       "          document.querySelector('#df-eae3049f-59ef-41ed-ab80-d8ed51d8ef9d button.colab-df-convert');\n",
       "        buttonEl.style.display =\n",
       "          google.colab.kernel.accessAllowed ? 'block' : 'none';\n",
       "\n",
       "        async function convertToInteractive(key) {\n",
       "          const element = document.querySelector('#df-eae3049f-59ef-41ed-ab80-d8ed51d8ef9d');\n",
       "          const dataTable =\n",
       "            await google.colab.kernel.invokeFunction('convertToInteractive',\n",
       "                                                     [key], {});\n",
       "          if (!dataTable) return;\n",
       "\n",
       "          const docLinkHtml = 'Like what you see? Visit the ' +\n",
       "            '<a target=\"_blank\" href=https://colab.research.google.com/notebooks/data_table.ipynb>data table notebook</a>'\n",
       "            + ' to learn more about interactive tables.';\n",
       "          element.innerHTML = '';\n",
       "          dataTable['output_type'] = 'display_data';\n",
       "          await google.colab.output.renderOutput(dataTable, element);\n",
       "          const docLink = document.createElement('div');\n",
       "          docLink.innerHTML = docLinkHtml;\n",
       "          element.appendChild(docLink);\n",
       "        }\n",
       "      </script>\n",
       "    </div>\n",
       "  </div>\n",
       "  "
      ],
      "text/plain": [
       "       is_sarcastic\n",
       "count  28619.000000\n",
       "mean       0.476397\n",
       "std        0.499451\n",
       "min        0.000000\n",
       "25%        0.000000\n",
       "50%        0.000000\n",
       "75%        1.000000\n",
       "max        1.000000"
      ]
     },
     "execution_count": 96,
     "metadata": {},
     "output_type": "execute_result"
    }
   ],
   "source": [
    "data.describe() # balanced data or not"
   ]
  },
  {
   "cell_type": "code",
   "execution_count": 97,
   "metadata": {
    "colab": {
     "base_uri": "https://localhost:8080/",
     "height": 281
    },
    "id": "vEkgdWuC7IAt",
    "outputId": "7ee8eed9-664a-4276-eba5-561da69083fa"
   },
   "outputs": [
    {
     "data": {
      "image/png": "[encoded data removed]",
      "text/plain": [
       "<Figure size 432x288 with 1 Axes>"
      ]
     },
     "metadata": {
      "needs_background": "light"
     },
     "output_type": "display_data"
    }
   ],
   "source": [
    "#The above statements can be visualised as\n",
    "sarcastic=0\n",
    "for i in range(len(data[\"is_sarcastic\"])):\n",
    "    if data[\"is_sarcastic\"].iloc[i]==1:\n",
    "        sarcastic+=1\n",
    "normal=len(data[\"is_sarcastic\"])-sarcastic\n",
    "label_values={\"Sarcastic Headlines\" : sarcastic, \"Non-Sarcastic Headlines\" : normal}\n",
    "plt.bar(label_values.keys(),label_values.values(),align=\"center\")\n",
    "plt.title(\"Number of Sarcastic vs Non-Sarcastic Headlines\")\n",
    "plt.ylabel(\"Number of Headlines\")\n",
    "plt.show()"
   ]
  },
  {
   "cell_type": "code",
   "execution_count": 99,
   "metadata": {
    "colab": {
     "base_uri": "https://localhost:8080/",
     "height": 206
    },
    "id": "qA-WTBrt7IAu",
    "outputId": "b15a003b-6c08-4fe3-8c78-db664bb562b3"
   },
   "outputs": [
    {
     "data": {
      "text/html": [
       "\n",
       "  <div id=\"df-33fd401f-db9f-4592-b562-1da15bcb0616\">\n",
       "    <div class=\"colab-df-container\">\n",
       "      <div>\n",
       "<style scoped>\n",
       "    .dataframe tbody tr th:only-of-type {\n",
       "        vertical-align: middle;\n",
       "    }\n",
       "\n",
       "    .dataframe tbody tr th {\n",
       "        vertical-align: top;\n",
       "    }\n",
       "\n",
       "    .dataframe thead th {\n",
       "        text-align: right;\n",
       "    }\n",
       "</style>\n",
       "<table border=\"1\" class=\"dataframe\">\n",
       "  <thead>\n",
       "    <tr style=\"text-align: right;\">\n",
       "      <th></th>\n",
       "      <th>headline</th>\n",
       "      <th>is_sarcastic</th>\n",
       "    </tr>\n",
       "  </thead>\n",
       "  <tbody>\n",
       "    <tr>\n",
       "      <th>0</th>\n",
       "      <td>thirtysomething scientists unveil doomsday clo...</td>\n",
       "      <td>1</td>\n",
       "    </tr>\n",
       "    <tr>\n",
       "      <th>1</th>\n",
       "      <td>dem rep. totally nails why congress is falling...</td>\n",
       "      <td>0</td>\n",
       "    </tr>\n",
       "    <tr>\n",
       "      <th>2</th>\n",
       "      <td>eat your veggies: 9 deliciously different recipes</td>\n",
       "      <td>0</td>\n",
       "    </tr>\n",
       "    <tr>\n",
       "      <th>3</th>\n",
       "      <td>inclement weather prevents liar from getting t...</td>\n",
       "      <td>1</td>\n",
       "    </tr>\n",
       "    <tr>\n",
       "      <th>4</th>\n",
       "      <td>mother comes pretty close to using word 'strea...</td>\n",
       "      <td>1</td>\n",
       "    </tr>\n",
       "  </tbody>\n",
       "</table>\n",
       "</div>\n",
       "      <button class=\"colab-df-convert\" onclick=\"convertToInteractive('df-33fd401f-db9f-4592-b562-1da15bcb0616')\"\n",
       "              title=\"Convert this dataframe to an interactive table.\"\n",
       "              style=\"display:none;\">\n",
       "        \n",
       "  <svg xmlns=\"http://www.w3.org/2000/svg\" height=\"24px\"viewBox=\"0 0 24 24\"\n",
       "       width=\"24px\">\n",
       "    <path d=\"M0 0h24v24H0V0z\" fill=\"none\"/>\n",
       "    <path d=\"M18.56 5.44l.94 2.06.94-2.06 2.06-.94-2.06-.94-.94-2.06-.94 2.06-2.06.94zm-11 1L8.5 8.5l.94-2.06 2.06-.94-2.06-.94L8.5 2.5l-.94 2.06-2.06.94zm10 10l.94 2.06.94-2.06 2.06-.94-2.06-.94-.94-2.06-.94 2.06-2.06.94z\"/><path d=\"M17.41 7.96l-1.37-1.37c-.4-.4-.92-.59-1.43-.59-.52 0-1.04.2-1.43.59L10.3 9.45l-7.72 7.72c-.78.78-.78 2.05 0 2.83L4 21.41c.39.39.9.59 1.41.59.51 0 1.02-.2 1.41-.59l7.78-7.78 2.81-2.81c.8-.78.8-2.07 0-2.86zM5.41 20L4 18.59l7.72-7.72 1.47 1.35L5.41 20z\"/>\n",
       "  </svg>\n",
       "      </button>\n",
       "      \n",
       "  <style>\n",
       "    .colab-df-container {\n",
       "      display:flex;\n",
       "      flex-wrap:wrap;\n",
       "      gap: 12px;\n",
       "    }\n",
       "\n",
       "    .colab-df-convert {\n",
       "      background-color: #E8F0FE;\n",
       "      border: none;\n",
       "      border-radius: 50%;\n",
       "      cursor: pointer;\n",
       "      display: none;\n",
       "      fill: #1967D2;\n",
       "      height: 32px;\n",
       "      padding: 0 0 0 0;\n",
       "      width: 32px;\n",
       "    }\n",
       "\n",
       "    .colab-df-convert:hover {\n",
       "      background-color: #E2EBFA;\n",
       "      box-shadow: 0px 1px 2px rgba(60, 64, 67, 0.3), 0px 1px 3px 1px rgba(60, 64, 67, 0.15);\n",
       "      fill: #174EA6;\n",
       "    }\n",
       "\n",
       "    [theme=dark] .colab-df-convert {\n",
       "      background-color: #3B4455;\n",
       "      fill: #D2E3FC;\n",
       "    }\n",
       "\n",
       "    [theme=dark] .colab-df-convert:hover {\n",
       "      background-color: #434B5C;\n",
       "      box-shadow: 0px 1px 3px 1px rgba(0, 0, 0, 0.15);\n",
       "      filter: drop-shadow(0px 1px 2px rgba(0, 0, 0, 0.3));\n",
       "      fill: #FFFFFF;\n",
       "    }\n",
       "  </style>\n",
       "\n",
       "      <script>\n",
       "        const buttonEl =\n",
       "          document.querySelector('#df-33fd401f-db9f-4592-b562-1da15bcb0616 button.colab-df-convert');\n",
       "        buttonEl.style.display =\n",
       "          google.colab.kernel.accessAllowed ? 'block' : 'none';\n",
       "\n",
       "        async function convertToInteractive(key) {\n",
       "          const element = document.querySelector('#df-33fd401f-db9f-4592-b562-1da15bcb0616');\n",
       "          const dataTable =\n",
       "            await google.colab.kernel.invokeFunction('convertToInteractive',\n",
       "                                                     [key], {});\n",
       "          if (!dataTable) return;\n",
       "\n",
       "          const docLinkHtml = 'Like what you see? Visit the ' +\n",
       "            '<a target=\"_blank\" href=https://colab.research.google.com/notebooks/data_table.ipynb>data table notebook</a>'\n",
       "            + ' to learn more about interactive tables.';\n",
       "          element.innerHTML = '';\n",
       "          dataTable['output_type'] = 'display_data';\n",
       "          await google.colab.output.renderOutput(dataTable, element);\n",
       "          const docLink = document.createElement('div');\n",
       "          docLink.innerHTML = docLinkHtml;\n",
       "          element.appendChild(docLink);\n",
       "        }\n",
       "      </script>\n",
       "    </div>\n",
       "  </div>\n",
       "  "
      ],
      "text/plain": [
       "                                            headline  is_sarcastic\n",
       "0  thirtysomething scientists unveil doomsday clo...             1\n",
       "1  dem rep. totally nails why congress is falling...             0\n",
       "2  eat your veggies: 9 deliciously different recipes             0\n",
       "3  inclement weather prevents liar from getting t...             1\n",
       "4  mother comes pretty close to using word 'strea...             1"
      ]
     },
     "execution_count": 99,
     "metadata": {},
     "output_type": "execute_result"
    }
   ],
   "source": [
    "#Dropping the \"organization\" column\n",
    "data=data.drop([\"organization\"],axis=1) # since organization plays no role here\n",
    "data.head()"
   ]
  },
  {
   "cell_type": "markdown",
   "metadata": {},
   "source": [
    "Preprocessing the data"
   ]
  },
  {
   "cell_type": "code",
   "execution_count": 100,
   "metadata": {
    "colab": {
     "base_uri": "https://localhost:8080/"
    },
    "id": "8Gr6Za_e9BHv",
    "outputId": "a108f34d-9764-40de-ddb7-a5025ce14243"
   },
   "outputs": [
    {
     "name": "stdout",
     "output_type": "stream",
     "text": [
      "Looking in indexes: https://pypi.org/simple, https://us-python.pkg.dev/colab-wheels/public/simple/\n",
      "Requirement already satisfied: Keras-preprocessing in /usr/local/lib/python3.9/dist-packages (1.1.2)\n",
      "Requirement already satisfied: numpy>=1.9.1 in /usr/local/lib/python3.9/dist-packages (from Keras-preprocessing) (1.22.4)\n",
      "Requirement already satisfied: six>=1.9.0 in /usr/local/lib/python3.9/dist-packages (from Keras-preprocessing) (1.16.0)\n"
     ]
    }
   ],
   "source": [
    "!pip install Keras-preprocessing "
   ]
  },
  {
   "cell_type": "code",
   "execution_count": 101,
   "metadata": {
    "colab": {
     "base_uri": "https://localhost:8080/"
    },
    "id": "Mot2r2dk7IAv",
    "outputId": "c2b0e55a-1e04-412d-fab1-cb2b7f7246e0"
   },
   "outputs": [
    {
     "name": "stdout",
     "output_type": "stream",
     "text": [
      "The number of unique words in the text corpus dictionary : 30884\n",
      "The shape of the trainable data : (28619, 400)\n",
      "The shape of the labels for the data is : (28619, 2)\n"
     ]
    }
   ],
   "source": [
    "from keras.preprocessing.text import Tokenizer\n",
    "from keras_preprocessing.sequence import pad_sequences\n",
    "from keras.utils import to_categorical\n",
    "\n",
    "#Note that the training data/test data split will be done later\n",
    "\n",
    "num_words=20000\n",
    "max_sentence_len=400\n",
    "tokenizer=Tokenizer(num_words=num_words)\n",
    "tokenizer.fit_on_texts(list(data[\"headline\"]))\n",
    "X=tokenizer.texts_to_sequences(list(data[\"headline\"]))\n",
    "X=pad_sequences(X,maxlen=max_sentence_len)\n",
    "Y=to_categorical(data[\"is_sarcastic\"].values)\n",
    "print(\"The number of unique words in the text corpus dictionary : {}\".format(len(tokenizer.word_index)))\n",
    "print(\"The shape of the trainable data : {}\".format(X.shape))\n",
    "print(\"The shape of the labels for the data is : {}\".format(Y.shape))"
   ]
  },
  {
   "cell_type": "code",
   "execution_count": 102,
   "metadata": {
    "colab": {
     "base_uri": "https://localhost:8080/"
    },
    "id": "kCV56C577IAv",
    "outputId": "b4d20292-86b5-4dca-f7b1-1b3556bc2555"
   },
   "outputs": [
    {
     "name": "stdout",
     "output_type": "stream",
     "text": [
      "The dimension/length of the embedding vector for each word is : 300\n"
     ]
    }
   ],
   "source": [
    "embedding_words={}\n",
    "file=open(r\"/content/drive/MyDrive/glove (2).6B.300d.txt\",'r', encoding=\"utf-8\") ## using 300 glove embeddings\n",
    "for line in file:\n",
    "    #There are a number of lines containing embeddings for each word\n",
    "    info=line.split(\" \")\n",
    "    #The first value in each line of the file is a unique word\n",
    "    word=info[0]\n",
    "    #The rest are embedding values of a specific dimension (to be displayed)\n",
    "    embedding_values=np.array(info[1:],dtype=\"float32\")\n",
    "    #Storing these values\n",
    "    embedding_words[word]=embedding_values\n",
    "file.close()\n",
    "print(\"The dimension/length of the embedding vector for each word is : {}\"\n",
    "     .format(len(embedding_words[\"go\"])))"
   ]
  },
  {
   "cell_type": "markdown",
   "metadata": {
    "id": "rF3NmlSw7IAv"
   },
   "source": [
    "Now, from these \"embedding_words\", the embedding matrix is obtained by running the cell below:"
   ]
  },
  {
   "cell_type": "code",
   "execution_count": 103,
   "metadata": {
    "id": "WSP_PkgI7IAv"
   },
   "outputs": [],
   "source": [
    "from keras.layers import Embedding\n",
    "from keras.initializers import Constant\n",
    "\n",
    "#The length/dimension of the embedding vector was found to be 300 after running the previous cell\n",
    "embedding_dim=len(embedding_words[\"go\"]) #or simply 300\n",
    "#Initialising the embedding matrix\n",
    "embedding_matrix=np.zeros((num_words,embedding_dim))\n",
    "#Forming the embedding matrix by using the embedding vectors for only those words in the text corpus of the data  \n",
    "for word,i in tokenizer.word_index.items():\n",
    "    if i>num_words:\n",
    "        continue\n",
    "    embedding_vector=embedding_words.get(word)\n",
    "    if embedding_vector is not None:\n",
    "        embedding_matrix[i]=embedding_vector"
   ]
  },
  {
   "cell_type": "code",
   "execution_count": 104,
   "metadata": {
    "colab": {
     "base_uri": "https://localhost:8080/"
    },
    "id": "pjVvpjaP7IAw",
    "outputId": "a0aeb1e5-cb4a-4cbf-d410-31def58f993d"
   },
   "outputs": [
    {
     "name": "stdout",
     "output_type": "stream",
     "text": [
      "The shape of the embedding matrix is (20000, 300)\n"
     ]
    }
   ],
   "source": [
    "#Creating the embedding layer further with the help of keras\n",
    "embeddings=Embedding(num_words,embedding_dim,embeddings_initializer=Constant(embedding_matrix),\n",
    "                    input_length=max_sentence_len,trainable=False)\n",
    "print(\"The shape of the embedding matrix is {}\".format(embedding_matrix.shape))"
   ]
  },
  {
   "cell_type": "markdown",
   "metadata": {},
   "source": [
    "Buliding the model"
   ]
  },
  {
   "cell_type": "code",
   "execution_count": 105,
   "metadata": {
    "id": "bWMNqsf07IAw"
   },
   "outputs": [],
   "source": [
    "from keras.models import Sequential\n",
    "from keras.layers import Dense, Flatten, Dropout, LSTM, Bidirectional, Conv1D, MaxPooling1D \n",
    "\n",
    "model=Sequential()\n",
    "model.add(embeddings)\n",
    "model.add(Conv1D(32,3,activation=\"relu\"))\n",
    "model.add(MaxPooling1D(pool_size=2))\n",
    "model.add(Dropout(0.5))\n",
    "model.add(Bidirectional(LSTM(120,return_sequences=True)))\n",
    "model.add(Flatten())\n",
    "model.add(Dense(35,activation=\"relu\"))\n",
    "model.add(Dropout(0.5))\n",
    "model.add(Dense(2,activation=\"sigmoid\"))\n",
    "model.compile(loss=\"binary_crossentropy\",optimizer=\"adam\",metrics=[\"accuracy\"])"
   ]
  },
  {
   "cell_type": "code",
   "execution_count": 117,
   "metadata": {
    "id": "OyD8exue7IAw"
   },
   "outputs": [],
   "source": [
    "#Splittting the data into training and testing sets before fitting the model\n",
    "from sklearn.model_selection import train_test_split\n",
    "x_train,x_test,y_train,y_test=train_test_split(X,Y,test_size=0.2) # 80-20 split"
   ]
  },
  {
   "cell_type": "code",
   "execution_count": 118,
   "metadata": {
    "colab": {
     "base_uri": "https://localhost:8080/"
    },
    "id": "D0rIB6gb7IAw",
    "outputId": "befcef5b-7cf0-4702-c8c6-7f81da9dcc1e"
   },
   "outputs": [
    {
     "name": "stdout",
     "output_type": "stream",
     "text": [
      "Epoch 1/15\n",
      "328/328 [==============================] - 9s 27ms/step - loss: 0.3184 - accuracy: 0.8668 - val_loss: 0.2563 - val_accuracy: 0.8983\n",
      "Epoch 2/15\n",
      "328/328 [==============================] - 9s 26ms/step - loss: 0.3049 - accuracy: 0.8723 - val_loss: 0.2626 - val_accuracy: 0.8962\n",
      "Epoch 3/15\n",
      "328/328 [==============================] - 8s 26ms/step - loss: 0.2916 - accuracy: 0.8798 - val_loss: 0.2664 - val_accuracy: 0.8880\n",
      "Epoch 4/15\n",
      "328/328 [==============================] - 9s 27ms/step - loss: 0.2871 - accuracy: 0.8835 - val_loss: 0.2665 - val_accuracy: 0.8910\n",
      "Epoch 5/15\n",
      "328/328 [==============================] - 8s 25ms/step - loss: 0.2734 - accuracy: 0.8888 - val_loss: 0.2637 - val_accuracy: 0.8899\n",
      "Epoch 6/15\n",
      "328/328 [==============================] - 8s 26ms/step - loss: 0.2691 - accuracy: 0.8902 - val_loss: 0.2737 - val_accuracy: 0.8814\n",
      "Epoch 7/15\n",
      "328/328 [==============================] - 8s 26ms/step - loss: 0.2585 - accuracy: 0.8909 - val_loss: 0.2816 - val_accuracy: 0.8816\n",
      "Epoch 8/15\n",
      "328/328 [==============================] - 8s 25ms/step - loss: 0.2531 - accuracy: 0.8979 - val_loss: 0.2826 - val_accuracy: 0.8788\n",
      "Epoch 9/15\n",
      "328/328 [==============================] - 8s 25ms/step - loss: 0.2516 - accuracy: 0.8971 - val_loss: 0.2841 - val_accuracy: 0.8798\n",
      "Epoch 10/15\n",
      "328/328 [==============================] - 9s 27ms/step - loss: 0.2429 - accuracy: 0.9036 - val_loss: 0.2759 - val_accuracy: 0.8777\n",
      "Epoch 11/15\n",
      "328/328 [==============================] - 8s 25ms/step - loss: 0.2426 - accuracy: 0.8990 - val_loss: 0.2785 - val_accuracy: 0.8786\n",
      "Epoch 12/15\n",
      "328/328 [==============================] - 8s 26ms/step - loss: 0.2368 - accuracy: 0.9046 - val_loss: 0.2845 - val_accuracy: 0.8751\n",
      "Epoch 13/15\n",
      "328/328 [==============================] - 9s 27ms/step - loss: 0.2337 - accuracy: 0.9043 - val_loss: 0.2862 - val_accuracy: 0.8753\n",
      "Epoch 14/15\n",
      "328/328 [==============================] - 8s 26ms/step - loss: 0.2291 - accuracy: 0.9078 - val_loss: 0.2947 - val_accuracy: 0.8740\n",
      "Epoch 15/15\n",
      "328/328 [==============================] - 8s 26ms/step - loss: 0.2299 - accuracy: 0.9076 - val_loss: 0.2900 - val_accuracy: 0.8704\n"
     ]
    }
   ],
   "source": [
    "batch_size=70 #Using a batch size of 128, during gradient descent\n",
    "num_epochs=15 #Number of iterations/epochs over the training set\n",
    "\n",
    "history=model.fit(x_train,y_train,batch_size=batch_size,epochs=num_epochs,validation_data=(x_test,y_test))"
   ]
  },
  {
   "cell_type": "markdown",
   "metadata": {
    "id": "wpKWdvRV7IAw"
   },
   "source": [
    "The above model yeilds the following results:\n",
    "1. The mean loss on the training set : 0.2288\n",
    "2. The accuracy on the training set : 90.76%"
   ]
  },
  {
   "cell_type": "code",
   "execution_count": 119,
   "metadata": {
    "colab": {
     "base_uri": "https://localhost:8080/"
    },
    "id": "8SV79Ug07IAw",
    "outputId": "78ba2314-5c6c-47bd-95d0-395e4051a828"
   },
   "outputs": [
    {
     "name": "stdout",
     "output_type": "stream",
     "text": [
      "179/179 [==============================] - 2s 9ms/step - loss: 0.2900 - accuracy: 0.8704\n",
      "The loss of the model on the test set : 0.2899596393108368\n",
      "The accuracy of the model on the test set : 87.03703880310059%\n"
     ]
    }
   ],
   "source": [
    "test_performance=model.evaluate(x_test,y_test)\n",
    "print(\"The loss of the model on the test set : {}\".format(test_performance[0]))\n",
    "print(\"The accuracy of the model on the test set : {}%\".format(test_performance[1]*100))"
   ]
  },
  {
   "cell_type": "code",
   "execution_count": 120,
   "metadata": {
    "colab": {
     "base_uri": "https://localhost:8080/"
    },
    "id": "J4eLkjXU7IAw",
    "outputId": "b53968c3-7120-4935-b06f-0a2b74aa540d"
   },
   "outputs": [
    {
     "name": "stdout",
     "output_type": "stream",
     "text": [
      "Model: \"sequential\"\n",
      "_________________________________________________________________\n",
      " Layer (type)                Output Shape              Param #   \n",
      "=================================================================\n",
      " embedding (Embedding)       (None, 400, 300)          6000000   \n",
      "                                                                 \n",
      " conv1d (Conv1D)             (None, 398, 32)           28832     \n",
      "                                                                 \n",
      " max_pooling1d (MaxPooling1D  (None, 199, 32)          0         \n",
      " )                                                               \n",
      "                                                                 \n",
      " dropout (Dropout)           (None, 199, 32)           0         \n",
      "                                                                 \n",
      " bidirectional (Bidirectiona  (None, 199, 240)         146880    \n",
      " l)                                                              \n",
      "                                                                 \n",
      " flatten (Flatten)           (None, 47760)             0         \n",
      "                                                                 \n",
      " dense (Dense)               (None, 35)                1671635   \n",
      "                                                                 \n",
      " dropout_1 (Dropout)         (None, 35)                0         \n",
      "                                                                 \n",
      " dense_1 (Dense)             (None, 2)                 72        \n",
      "                                                                 \n",
      "=================================================================\n",
      "Total params: 7,847,419\n",
      "Trainable params: 1,847,419\n",
      "Non-trainable params: 6,000,000\n",
      "_________________________________________________________________\n"
     ]
    }
   ],
   "source": [
    "model.summary()"
   ]
  },
  {
   "cell_type": "code",
   "execution_count": 122,
   "metadata": {
    "colab": {
     "base_uri": "https://localhost:8080/",
     "height": 295
    },
    "id": "l_t09O1A7IAx",
    "outputId": "b8f219a5-7fb0-49a5-85f2-765bc2fbc8ea"
   },
   "outputs": [
    {
     "data": {
      "image/png": "[encoded data removed]",
      "text/plain": [
       "<Figure size 432x288 with 1 Axes>"
      ]
     },
     "metadata": {
      "needs_background": "light"
     },
     "output_type": "display_data"
    }
   ],
   "source": [
    "#Visualising the loss of the model, throughout the training process\n",
    "plt.plot(history.history['loss'])\n",
    "plt.plot(history.history['val_loss'])\n",
    "plt.title('Model loss')\n",
    "plt.ylabel('Loss')\n",
    "plt.xlabel('Epoch')\n",
    "plt.legend(['Train', 'Test'], loc='upper right')\n",
    "plt.savefig(\"modelloss_sarcasmdetection.jpg\")"
   ]
  },
  {
   "cell_type": "code",
   "execution_count": 123,
   "metadata": {
    "colab": {
     "base_uri": "https://localhost:8080/",
     "height": 295
    },
    "id": "ZhkcGSyh7IAx",
    "outputId": "18c0ff95-6ae2-48ef-d192-e11ae5f4f4cb"
   },
   "outputs": [
    {
     "data": {
      "image/png": "[encoded data removed]",
      "text/plain": [
       "<Figure size 432x288 with 1 Axes>"
      ]
     },
     "metadata": {
      "needs_background": "light"
     },
     "output_type": "display_data"
    }
   ],
   "source": [
    "#Visualising the accuracy of the model, throughout the training process\n",
    "plt.plot(history.history['accuracy'])\n",
    "plt.plot(history.history['val_accuracy'])\n",
    "plt.title('Model accuracy')\n",
    "plt.ylabel('Accuracy')\n",
    "plt.xlabel('Epoch')\n",
    "plt.legend(['Train', 'Test'], loc='upper left')\n",
    "plt.savefig(\"modelacc_sarcasmdetection.jpg\")"
   ]
  },
  {
   "cell_type": "code",
   "execution_count": 124,
   "metadata": {
    "colab": {
     "base_uri": "https://localhost:8080/"
    },
    "id": "QN0q-ExL7IAx",
    "outputId": "6f49cd40-e2ae-4aaa-fa79-210af7ac4866"
   },
   "outputs": [
    {
     "name": "stdout",
     "output_type": "stream",
     "text": [
      "32/32 [==============================] - 0s 6ms/step\n",
      "43/43 [==============================] - 0s 6ms/step\n",
      "40/40 [==============================] - 0s 7ms/step\n",
      "39/39 [==============================] - 0s 6ms/step\n",
      "The headline - Wow you are looking so beautiful : Sarcastic\n",
      "The headline - The facts imply that the suspect used a gun : Not Sarcastic\n",
      "The headline - It looks like Trump is very affectionate : Sarcastic\n",
      "The headline - The economy is on the brink of collapse : Not Sarcastic\n"
     ]
    }
   ],
   "source": [
    "#Checking the validity of this model on some own made up headlines\n",
    "\n",
    "my_headline1=\"Wow you are looking so beautiful\" #Meant to be sarcastic\n",
    "my_headline2=\"The facts imply that the suspect used a gun\" #Meant to be non-sarcastic\n",
    "my_headline3=\"It looks like Trump is very affectionate\" #Meant to be sarcastic\n",
    "my_headline4=\"The economy is on the brink of collapse\" #Meant to be non-sarcastic\n",
    "\n",
    "my_headline11=tokenizer.texts_to_sequences(my_headline1)\n",
    "my_headline22=tokenizer.texts_to_sequences(my_headline2)\n",
    "my_headline33=tokenizer.texts_to_sequences(my_headline3)\n",
    "my_headline44=tokenizer.texts_to_sequences(my_headline4)\n",
    "\n",
    "my_headline11=pad_sequences(my_headline11,maxlen=max_sentence_len,dtype=\"int32\",value=0)\n",
    "my_headline22=pad_sequences(my_headline22,maxlen=max_sentence_len,dtype=\"int32\",value=0)\n",
    "my_headline33=pad_sequences(my_headline33,maxlen=max_sentence_len,dtype=\"int32\",value=0)\n",
    "my_headline44=pad_sequences(my_headline44,maxlen=max_sentence_len,dtype=\"int32\",value=0)\n",
    "\n",
    "prediction1=model.predict(my_headline11,batch_size=1)[0]\n",
    "prediction2=model.predict(my_headline22,batch_size=1)[0]\n",
    "prediction3=model.predict(my_headline33,batch_size=1)[0]\n",
    "prediction4=model.predict(my_headline44,batch_size=1)[0]\n",
    "\n",
    "if np.argmax(prediction1)==1:\n",
    "    print(\"The headline - \" + my_headline1 + \" : Not Sarcastic\")\n",
    "else:\n",
    "    print(\"The headline - \" + my_headline1 + \" : Sarcastic\")\n",
    "    \n",
    "if np.argmax(prediction2)==1:\n",
    "    print(\"The headline - \" + my_headline2 + \" : Not Sarcastic\")\n",
    "else:\n",
    "    print(\"The headline - \" + my_headline2 + \" : Sarcastic\")\n",
    "\n",
    "if np.argmax(prediction3)==1:\n",
    "    print(\"The headline - \" + my_headline3 + \" : Not Sarcastic\")\n",
    "else:\n",
    "    print(\"The headline - \" + my_headline3 + \" : Sarcastic\")\n",
    "    \n",
    "if np.argmax(prediction4)==1:\n",
    "    print(\"The headline - \" + my_headline4 + \" : Not Sarcastic\")\n",
    "else:\n",
    "    print(\"The headline - \" + my_headline4 + \" : Sarcastic\")"
   ]
  },
  {
   "cell_type": "code",
   "execution_count": 125,
   "metadata": {
    "colab": {
     "base_uri": "https://localhost:8080/"
    },
    "id": "d41GDCElzRbS",
    "outputId": "c594c915-0716-4d5f-8a02-03410fc756b0"
   },
   "outputs": [
    {
     "name": "stdout",
     "output_type": "stream",
     "text": [
      "[0.57177967 0.4273843 ]\n",
      "[0.40286306 0.5969079 ]\n",
      "[0.8106389  0.19044138]\n",
      "[0.40286306 0.5969079 ]\n"
     ]
    }
   ],
   "source": [
    "print(prediction1)\n",
    "print(prediction2)\n",
    "print(prediction3)\n",
    "print(prediction4)"
   ]
  },
  {
   "cell_type": "markdown",
   "metadata": {
    "id": "KYMDlHao7IAx"
   },
   "source": [
    "The model is thus working decently well enough, with a good enough accuracy, similar on both the training and test set. <br>\n",
    "The model is also decently able to identify sarcastic, and non-sarcastic headlines, written by a normal person as well."
   ]
  },
  {
   "cell_type": "markdown",
   "metadata": {},
   "source": [
    "Saving the current model for future usage"
   ]
  },
  {
   "cell_type": "code",
   "execution_count": 128,
   "metadata": {
    "id": "wVFUM5097IAy"
   },
   "outputs": [],
   "source": [
    "\n",
    "model_json = model.to_json()\n",
    "with open(\"/content/drive/MyDrive/BiLSTM models/model_sarcasmdetection.json\", \"w\") as json_file:\n",
    "    json_file.write(model_json)\n",
    "model.save_weights(\"/content/drive/MyDrive/BiLSTM models/BestVersion.hdf5\")"
   ]
  }
 ],
 "metadata": {
  "accelerator": "GPU",
  "colab": {
   "provenance": []
  },
  "gpuClass": "standard",
  "kernelspec": {
   "display_name": "Python 3 (ipykernel)",
   "language": "python",
   "name": "python3"
  },
  "language_info": {
   "codemirror_mode": {
    "name": "ipython",
    "version": 3
   },
   "file_extension": ".py",
   "mimetype": "text/x-python",
   "name": "python",
   "nbconvert_exporter": "python",
   "pygments_lexer": "ipython3",
   "version": "3.9.12"
  }
 },
 "nbformat": 4,
 "nbformat_minor": 1
}
